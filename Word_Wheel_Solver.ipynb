{
 "cells": [
  {
   "cell_type": "code",
   "execution_count": 1,
   "id": "ranging-binding",
   "metadata": {},
   "outputs": [],
   "source": [
    "import pandas as pd\n",
    "import numpy as np"
   ]
  },
  {
   "cell_type": "code",
   "execution_count": 37,
   "id": "altered-regulation",
   "metadata": {},
   "outputs": [],
   "source": [
    "# read in the data\n",
    "words = pd.read_csv('words_alpha.txt', names = ['word'])"
   ]
  },
  {
   "cell_type": "code",
   "execution_count": 38,
   "id": "concrete-poetry",
   "metadata": {},
   "outputs": [],
   "source": [
    "#for i, word in enumerate(words['word']):\n",
    "#    words.loc[i,'length'] = len(word)"
   ]
  },
  {
   "cell_type": "code",
   "execution_count": 44,
   "id": "australian-external",
   "metadata": {},
   "outputs": [],
   "source": [
    "# filter for 9 letter words\n",
    "nine_letters = words[words['word'].str.len() == 9]\n",
    "#turn it into a list\n",
    "nine_list = list(nine_letters['word'])"
   ]
  },
  {
   "cell_type": "code",
   "execution_count": 46,
   "id": "japanese-default",
   "metadata": {},
   "outputs": [
    {
     "data": {
      "text/plain": [
       "53402"
      ]
     },
     "execution_count": 46,
     "metadata": {},
     "output_type": "execute_result"
    }
   ],
   "source": [
    "len(nine_list)"
   ]
  },
  {
   "cell_type": "code",
   "execution_count": null,
   "id": "biblical-causing",
   "metadata": {},
   "outputs": [],
   "source": [
    "letters = ['i', 't', 'h', 'o', 'd', 'u', 'n', 'n']"
   ]
  },
  {
   "cell_type": "code",
   "execution_count": 47,
   "id": "improving-morocco",
   "metadata": {},
   "outputs": [],
   "source": [
    "import string"
   ]
  },
  {
   "cell_type": "code",
   "execution_count": null,
   "id": "embedded-spare",
   "metadata": {},
   "outputs": [],
   "source": [
    "st"
   ]
  }
 ],
 "metadata": {
  "kernelspec": {
   "display_name": "Python 3",
   "language": "python",
   "name": "python3"
  },
  "language_info": {
   "codemirror_mode": {
    "name": "ipython",
    "version": 3
   },
   "file_extension": ".py",
   "mimetype": "text/x-python",
   "name": "python",
   "nbconvert_exporter": "python",
   "pygments_lexer": "ipython3",
   "version": "3.8.6"
  }
 },
 "nbformat": 4,
 "nbformat_minor": 5
}
