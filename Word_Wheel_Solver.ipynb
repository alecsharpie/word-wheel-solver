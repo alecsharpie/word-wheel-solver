{
 "cells": [
  {
   "cell_type": "code",
   "execution_count": 1,
   "id": "light-tanzania",
   "metadata": {},
   "outputs": [],
   "source": [
    "import pandas as pd\n",
    "import numpy as np"
   ]
  },
  {
   "cell_type": "code",
   "execution_count": 37,
   "id": "virgin-mortality",
   "metadata": {},
   "outputs": [],
   "source": [
    "# read in the data\n",
    "words = pd.read_csv('words_alpha.txt', names = ['word'])"
   ]
  },
  {
   "cell_type": "code",
   "execution_count": 38,
   "id": "seeing-scroll",
   "metadata": {},
   "outputs": [],
   "source": [
    "#for i, word in enumerate(words['word']):\n",
    "#    words.loc[i,'length'] = len(word)"
   ]
  },
  {
   "cell_type": "code",
   "execution_count": 44,
   "id": "alleged-endorsement",
   "metadata": {},
   "outputs": [],
   "source": [
    "# filter for 9 letter words\n",
    "nine_letters = words[words['word'].str.len() == 9]\n",
    "#turn it into a list\n",
    "nine_list = list(nine_letters['word'])"
   ]
  },
  {
   "cell_type": "code",
   "execution_count": 46,
   "id": "elder-train",
   "metadata": {},
   "outputs": [
    {
     "data": {
      "text/plain": [
       "53402"
      ]
     },
     "execution_count": 46,
     "metadata": {},
     "output_type": "execute_result"
    }
   ],
   "source": [
    "len(nine_list)"
   ]
  },
  {
   "cell_type": "code",
   "execution_count": 52,
   "id": "arranged-valve",
   "metadata": {},
   "outputs": [],
   "source": [
    "# input possible letters\n",
    "letters = ['i', 't', 'h', 'o', 'd', 'u', 'n', 'n']"
   ]
  },
  {
   "cell_type": "code",
   "execution_count": 47,
   "id": "refined-richardson",
   "metadata": {},
   "outputs": [],
   "source": [
    "import string"
   ]
  },
  {
   "cell_type": "code",
   "execution_count": 50,
   "id": "starting-tampa",
   "metadata": {},
   "outputs": [],
   "source": [
    "# create alphabet\n",
    "alphabet = list(string.ascii_lowercase)"
   ]
  },
  {
   "cell_type": "code",
   "execution_count": null,
   "id": "injured-dynamics",
   "metadata": {},
   "outputs": [],
   "source": [
    "# define function to create possible word\n",
    "def create_word(letters, alphabet):\n",
    "    "
   ]
  },
  {
   "cell_type": "code",
   "execution_count": 77,
   "id": "beginning-player",
   "metadata": {},
   "outputs": [],
   "source": [
    "# create potential letter combinations\n",
    "options = []\n",
    "for place in range(9):\n",
    "    for letter in range(26):\n",
    "        letter_list = letters[:place] + [alphabet[letter]] + letters[place:]\n",
    "        options.append(letter_list)\n",
    "        options.append(letter_list[::-1])"
   ]
  },
  {
   "cell_type": "code",
   "execution_count": 79,
   "id": "surprised-thought",
   "metadata": {},
   "outputs": [
    {
     "data": {
      "text/plain": [
       "468"
      ]
     },
     "execution_count": 79,
     "metadata": {},
     "output_type": "execute_result"
    }
   ],
   "source": [
    "len(options)"
   ]
  },
  {
   "cell_type": "code",
   "execution_count": 80,
   "id": "exotic-humanity",
   "metadata": {},
   "outputs": [
    {
     "data": {
      "text/plain": [
       "['a', 'i', 't', 'h', 'o', 'd', 'u', 'n', 'n']"
      ]
     },
     "execution_count": 80,
     "metadata": {},
     "output_type": "execute_result"
    }
   ],
   "source": [
    "options[0]"
   ]
  },
  {
   "cell_type": "code",
   "execution_count": null,
   "id": "abandoned-concord",
   "metadata": {},
   "outputs": [],
   "source": [
    "# cycle through combinations to see which ones are real words\n",
    "for start"
   ]
  }
 ],
 "metadata": {
  "kernelspec": {
   "display_name": "Python 3",
   "language": "python",
   "name": "python3"
  },
  "language_info": {
   "codemirror_mode": {
    "name": "ipython",
    "version": 3
   },
   "file_extension": ".py",
   "mimetype": "text/x-python",
   "name": "python",
   "nbconvert_exporter": "python",
   "pygments_lexer": "ipython3",
   "version": "3.8.6"
  }
 },
 "nbformat": 4,
 "nbformat_minor": 5
}
