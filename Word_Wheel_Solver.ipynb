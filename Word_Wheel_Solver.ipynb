{
 "cells": [
  {
   "cell_type": "markdown",
   "id": "defensive-hobby",
   "metadata": {},
   "source": [
    "# Word Wheel Solver"
   ]
  },
  {
   "cell_type": "markdown",
   "id": "formal-population",
   "metadata": {},
   "source": [
    "### Import libraries"
   ]
  },
  {
   "cell_type": "code",
   "execution_count": 1,
   "id": "hundred-current",
   "metadata": {},
   "outputs": [],
   "source": [
    "import pandas as pd\n",
    "import numpy as np"
   ]
  },
  {
   "cell_type": "markdown",
   "id": "spiritual-breakdown",
   "metadata": {},
   "source": [
    "### Create a new csv file containing only 9 letter words"
   ]
  },
  {
   "cell_type": "code",
   "execution_count": 37,
   "id": "sublime-multimedia",
   "metadata": {},
   "outputs": [],
   "source": [
    "# read in the data\n",
    "words = pd.read_csv('words_alpha.txt', names = ['word'])\n",
    "\n",
    "# filter for 9 letter words and save as a csv\n",
    "nine_letters = words[words['word'].str.len() == 9]\n",
    "\n",
    "# save to a new csv\n",
    "nine_letters.to_csv('nine_letter_words.csv')"
   ]
  },
  {
   "cell_type": "markdown",
   "id": "cleared-inflation",
   "metadata": {},
   "source": [
    "### Check letters for possible correct words"
   ]
  },
  {
   "cell_type": "code",
   "execution_count": null,
   "id": "organized-slovakia",
   "metadata": {},
   "outputs": [],
   "source": [
    "# input letters in the word wheel\n",
    "letters = 'ytopiand'"
   ]
  },
  {
   "cell_type": "code",
   "execution_count": 177,
   "id": "alpine-apartment",
   "metadata": {},
   "outputs": [],
   "source": [
    "# read in 9 letter words csv\n",
    "words = pd.read_csv('nine_letter_words.csv', names = ['word'])\n",
    "#turn it into a list\n",
    "nine_list = list(nine_letters['word'])"
   ]
  },
  {
   "cell_type": "code",
   "execution_count": 166,
   "id": "arabic-mississippi",
   "metadata": {},
   "outputs": [],
   "source": [
    "# create alphabet\n",
    "import string\n",
    "alphabet = list(string.ascii_lowercase)"
   ]
  },
  {
   "cell_type": "code",
   "execution_count": 167,
   "id": "threaded-birthday",
   "metadata": {},
   "outputs": [],
   "source": [
    "# create potential letter combinations\n",
    "combinations = []\n",
    "for place in range(9):\n",
    "    for letter in range(len(alphabet)):\n",
    "        letter_list = list(letters)[:place] + [alphabet[letter]] + list(letters)[place:]\n",
    "        combinations.append(letter_list)\n",
    "        combinations.append(letter_list[::-1])"
   ]
  },
  {
   "cell_type": "code",
   "execution_count": 169,
   "id": "expressed-habitat",
   "metadata": {},
   "outputs": [],
   "source": [
    "# create all possible sequences of letters\n",
    "options = []\n",
    "for start_position in range(9):\n",
    "    for combination in combinations:\n",
    "        sequence = combination[start_position:] + combination[:start_position]\n",
    "        options.append(sequence)"
   ]
  },
  {
   "cell_type": "code",
   "execution_count": 171,
   "id": "cooperative-monte",
   "metadata": {},
   "outputs": [],
   "source": [
    "# iterate through combinations to see which ones are real words\n",
    "solutions = []\n",
    "for option in options:\n",
    "    if ''.join(option) in nine_list:\n",
    "        solutions.append(option)\n",
    "\n",
    "# combine solutions lists into words\n",
    "solutions = [''.join(solution) for solution in solutions]"
   ]
  },
  {
   "cell_type": "code",
   "execution_count": 172,
   "id": "transsexual-japanese",
   "metadata": {},
   "outputs": [
    {
     "data": {
      "text/plain": [
       "['dystopian']"
      ]
     },
     "execution_count": 172,
     "metadata": {},
     "output_type": "execute_result"
    }
   ],
   "source": [
    "solutions"
   ]
  },
  {
   "cell_type": "markdown",
   "id": "respective-significance",
   "metadata": {},
   "source": [
    "### Wrap into a function"
   ]
  },
  {
   "cell_type": "code",
   "execution_count": 5,
   "id": "engaging-laser",
   "metadata": {},
   "outputs": [],
   "source": [
    "def solve_word_wheel(letters):\n",
    "    \"\"\"create a function to solve newspaper's word wheel (9 letter word)\n",
    "    given sequence of available letters as a string\"\"\"\n",
    "    \n",
    "    # read in 9 letter words csv\n",
    "    words = pd.read_csv('nine_letter_words.csv', names = ['word'])\n",
    "    #turn it into a list\n",
    "    nine_list = list(words['word'])\n",
    "    \n",
    "    \n",
    "    # create alphabet\n",
    "    import string\n",
    "    alphabet = list(string.ascii_lowercase)\n",
    "    \n",
    "    \n",
    "    # create potential letter combinations\n",
    "    combinations = []\n",
    "    for place in range(len(letters)):\n",
    "        for letter in range(len(alphabet)):\n",
    "            letter_list = list(letters)[:place] + [alphabet[letter]] + list(letters)[place:]\n",
    "            combinations.append(letter_list)\n",
    "            combinations.append(letter_list[::-1])\n",
    "        \n",
    "    # create all possible sequences of letters\n",
    "    options = []\n",
    "    for start_position in range(len(letters)):\n",
    "        for combination in combinations:\n",
    "            sequence = combination[start_position:] + combination[:start_position]\n",
    "            options.append(sequence)\n",
    "        \n",
    "    # iterate through combinations to see which ones are real words\n",
    "    solutions = []\n",
    "    for option in options:\n",
    "        if ''.join(option) in nine_list:\n",
    "            solutions.append(option)\n",
    "\n",
    "    # combine solutions lists into words\n",
    "    solutions = [''.join(solution) for solution in solutions]\n",
    "    \n",
    "    return solutions"
   ]
  },
  {
   "cell_type": "markdown",
   "id": "pretty-kingdom",
   "metadata": {},
   "source": [
    "### Solve Word Wheel (9 Letter Word)"
   ]
  },
  {
   "cell_type": "code",
   "execution_count": 6,
   "id": "driving-shipping",
   "metadata": {},
   "outputs": [
    {
     "data": {
      "text/plain": [
       "['quizzical']"
      ]
     },
     "execution_count": 6,
     "metadata": {},
     "output_type": "execute_result"
    }
   ],
   "source": [
    "solve_word_wheel('zzicalui')"
   ]
  },
  {
   "cell_type": "markdown",
   "id": "defensive-server",
   "metadata": {},
   "source": [
    "### Solve Word Wheel (8 Letter Word)"
   ]
  },
  {
   "cell_type": "code",
   "execution_count": 8,
   "id": "sensitive-contractor",
   "metadata": {},
   "outputs": [
    {
     "data": {
      "text/plain": [
       "[]"
      ]
     },
     "execution_count": 8,
     "metadata": {},
     "output_type": "execute_result"
    }
   ],
   "source": [
    "solve_word_wheel('uteasol')"
   ]
  },
  {
   "cell_type": "code",
   "execution_count": null,
   "id": "retained-explosion",
   "metadata": {},
   "outputs": [],
   "source": []
  }
 ],
 "metadata": {
  "kernelspec": {
   "display_name": "Python 3",
   "language": "python",
   "name": "python3"
  },
  "language_info": {
   "codemirror_mode": {
    "name": "ipython",
    "version": 3
   },
   "file_extension": ".py",
   "mimetype": "text/x-python",
   "name": "python",
   "nbconvert_exporter": "python",
   "pygments_lexer": "ipython3",
   "version": "3.8.6"
  }
 },
 "nbformat": 4,
 "nbformat_minor": 5
}
