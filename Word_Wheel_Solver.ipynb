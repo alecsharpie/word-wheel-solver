{
 "cells": [
  {
   "cell_type": "code",
   "execution_count": 1,
   "id": "pending-peoples",
   "metadata": {},
   "outputs": [],
   "source": [
    "import pandas as pd\n",
    "import numpy as np"
   ]
  },
  {
   "cell_type": "code",
   "execution_count": 37,
   "id": "labeled-chocolate",
   "metadata": {},
   "outputs": [],
   "source": [
    "# read in the data\n",
    "words = pd.read_csv('words_alpha.txt', names = ['word'])"
   ]
  },
  {
   "cell_type": "code",
   "execution_count": 38,
   "id": "complex-resource",
   "metadata": {},
   "outputs": [],
   "source": [
    "#for i, word in enumerate(words['word']):\n",
    "#    words.loc[i,'length'] = len(word)"
   ]
  },
  {
   "cell_type": "code",
   "execution_count": 44,
   "id": "compliant-roman",
   "metadata": {},
   "outputs": [],
   "source": [
    "# filter for 9 letter words\n",
    "nine_letters = words[words['word'].str.len() == 9]\n",
    "#turn it into a list\n",
    "nine_list = list(nine_letters['word'])"
   ]
  },
  {
   "cell_type": "code",
   "execution_count": 46,
   "id": "infinite-webmaster",
   "metadata": {},
   "outputs": [
    {
     "data": {
      "text/plain": [
       "53402"
      ]
     },
     "execution_count": 46,
     "metadata": {},
     "output_type": "execute_result"
    }
   ],
   "source": [
    "len(nine_list)"
   ]
  },
  {
   "cell_type": "code",
   "execution_count": null,
   "id": "wireless-toddler",
   "metadata": {},
   "outputs": [],
   "source": [
    "letters = []"
   ]
  }
 ],
 "metadata": {
  "kernelspec": {
   "display_name": "Python 3",
   "language": "python",
   "name": "python3"
  },
  "language_info": {
   "codemirror_mode": {
    "name": "ipython",
    "version": 3
   },
   "file_extension": ".py",
   "mimetype": "text/x-python",
   "name": "python",
   "nbconvert_exporter": "python",
   "pygments_lexer": "ipython3",
   "version": "3.8.6"
  }
 },
 "nbformat": 4,
 "nbformat_minor": 5
}
