{
 "cells": [
  {
   "cell_type": "code",
   "execution_count": 1,
   "id": "fantastic-diameter",
   "metadata": {},
   "outputs": [],
   "source": [
    "import pandas as pd\n",
    "import numpy as np"
   ]
  },
  {
   "cell_type": "code",
   "execution_count": 37,
   "id": "pleased-repair",
   "metadata": {},
   "outputs": [],
   "source": [
    "# read in the data\n",
    "words = pd.read_csv('words_alpha.txt', names = ['word'])"
   ]
  },
  {
   "cell_type": "code",
   "execution_count": 38,
   "id": "complimentary-credits",
   "metadata": {},
   "outputs": [],
   "source": [
    "#for i, word in enumerate(words['word']):\n",
    "#    words.loc[i,'length'] = len(word)"
   ]
  },
  {
   "cell_type": "code",
   "execution_count": 44,
   "id": "changing-apache",
   "metadata": {},
   "outputs": [],
   "source": [
    "# filter for 9 letter words\n",
    "nine_letters = words[words['word'].str.len() == 9]\n",
    "#turn it into a list\n",
    "nine_list = list(nine_letters['word'])"
   ]
  },
  {
   "cell_type": "code",
   "execution_count": 46,
   "id": "wired-cabin",
   "metadata": {},
   "outputs": [
    {
     "data": {
      "text/plain": [
       "53402"
      ]
     },
     "execution_count": 46,
     "metadata": {},
     "output_type": "execute_result"
    }
   ],
   "source": [
    "len(nine_list)"
   ]
  },
  {
   "cell_type": "code",
   "execution_count": 52,
   "id": "retained-delay",
   "metadata": {},
   "outputs": [],
   "source": [
    "# input possible letters\n",
    "letters = ['i', 't', 'h', 'o', 'd', 'u', 'n', 'n']"
   ]
  },
  {
   "cell_type": "code",
   "execution_count": 47,
   "id": "continuous-violin",
   "metadata": {},
   "outputs": [],
   "source": [
    "import string"
   ]
  },
  {
   "cell_type": "code",
   "execution_count": 50,
   "id": "tutorial-diagram",
   "metadata": {},
   "outputs": [],
   "source": [
    "# create alphabet\n",
    "alphabet = list(string.ascii_lowercase)"
   ]
  },
  {
   "cell_type": "code",
   "execution_count": null,
   "id": "comprehensive-vessel",
   "metadata": {},
   "outputs": [],
   "source": [
    "# define function to create possible word\n",
    "def create_word(letters, alphabet):\n",
    "    "
   ]
  },
  {
   "cell_type": "code",
   "execution_count": 88,
   "id": "friendly-chocolate",
   "metadata": {},
   "outputs": [],
   "source": [
    "# create potential letter combinations\n",
    "combinations = []\n",
    "for place in range(9):\n",
    "    for letter in range(26):\n",
    "        letter_list = letters[:place] + [alphabet[letter]] + letters[place:]\n",
    "        combinations.append(letter_list)\n",
    "        combinations.append(letter_list[::-1])"
   ]
  },
  {
   "cell_type": "code",
   "execution_count": 89,
   "id": "secret-option",
   "metadata": {},
   "outputs": [
    {
     "data": {
      "text/plain": [
       "468"
      ]
     },
     "execution_count": 89,
     "metadata": {},
     "output_type": "execute_result"
    }
   ],
   "source": [
    "len(combinations)"
   ]
  },
  {
   "cell_type": "code",
   "execution_count": 95,
   "id": "intermediate-worst",
   "metadata": {},
   "outputs": [],
   "source": [
    "# create all possible sequences of letters\n",
    "options = []\n",
    "for start_position in range(9):\n",
    "    for combination in combinations:\n",
    "        sequence = combination[start_position:] + combination[:start_position]\n",
    "        options.append(sequence)"
   ]
  },
  {
   "cell_type": "code",
   "execution_count": 100,
   "id": "adolescent-package",
   "metadata": {},
   "outputs": [
    {
     "data": {
      "text/plain": [
       "4212"
      ]
     },
     "execution_count": 100,
     "metadata": {},
     "output_type": "execute_result"
    }
   ],
   "source": [
    "len(options)"
   ]
  },
  {
   "cell_type": "code",
   "execution_count": 102,
   "id": "lightweight-currency",
   "metadata": {},
   "outputs": [],
   "source": [
    "# cycle through combinations to see which ones are real words\n",
    "solutions = []\n",
    "for option in options:\n",
    "    if ''.join(option) in nine_list:\n",
    "        solutions.append(option)"
   ]
  },
  {
   "cell_type": "code",
   "execution_count": 103,
   "id": "professional-tumor",
   "metadata": {},
   "outputs": [
    {
     "data": {
      "text/plain": [
       "[['w', 'h', 'o', 'd', 'u', 'n', 'n', 'i', 't']]"
      ]
     },
     "execution_count": 103,
     "metadata": {},
     "output_type": "execute_result"
    }
   ],
   "source": [
    "solutions"
   ]
  }
 ],
 "metadata": {
  "kernelspec": {
   "display_name": "Python 3",
   "language": "python",
   "name": "python3"
  },
  "language_info": {
   "codemirror_mode": {
    "name": "ipython",
    "version": 3
   },
   "file_extension": ".py",
   "mimetype": "text/x-python",
   "name": "python",
   "nbconvert_exporter": "python",
   "pygments_lexer": "ipython3",
   "version": "3.8.6"
  }
 },
 "nbformat": 4,
 "nbformat_minor": 5
}
