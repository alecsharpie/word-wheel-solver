{
 "cells": [
  {
   "cell_type": "code",
   "execution_count": 1,
   "id": "liked-lodging",
   "metadata": {},
   "outputs": [],
   "source": [
    "import pandas as pd\n",
    "import numpy as np"
   ]
  },
  {
   "cell_type": "code",
   "execution_count": 37,
   "id": "alleged-tribe",
   "metadata": {},
   "outputs": [],
   "source": [
    "# read in the data\n",
    "words = pd.read_csv('words_alpha.txt', names = ['word'])"
   ]
  },
  {
   "cell_type": "code",
   "execution_count": 44,
   "id": "nominated-rogers",
   "metadata": {},
   "outputs": [],
   "source": [
    "# filter for 9 letter words\n",
    "nine_letters = words[words['word'].str.len() == 9]\n",
    "#turn it into a list\n",
    "nine_list = list(nine_letters['word'])"
   ]
  },
  {
   "cell_type": "code",
   "execution_count": 46,
   "id": "fewer-greenhouse",
   "metadata": {},
   "outputs": [
    {
     "data": {
      "text/plain": [
       "53402"
      ]
     },
     "execution_count": 46,
     "metadata": {},
     "output_type": "execute_result"
    }
   ],
   "source": [
    "len(nine_list)"
   ]
  },
  {
   "cell_type": "code",
   "execution_count": 126,
   "id": "simplified-equality",
   "metadata": {
    "tags": []
   },
   "outputs": [],
   "source": [
    "# input possible letters\n",
    "letters = 'ithodunn'"
   ]
  },
  {
   "cell_type": "code",
   "execution_count": 104,
   "id": "magnetic-creativity",
   "metadata": {},
   "outputs": [],
   "source": [
    "letters2 = ['t', 'g', 'r', 'a', 'h', 'r', 'i', 's']"
   ]
  },
  {
   "cell_type": "code",
   "execution_count": 111,
   "id": "vertical-dubai",
   "metadata": {},
   "outputs": [],
   "source": [
    "letters3 = ['t', 'e', 'r', 'i', 'e', 's', 'm', 'y']"
   ]
  },
  {
   "cell_type": "code",
   "execution_count": 127,
   "id": "healthy-bedroom",
   "metadata": {},
   "outputs": [],
   "source": [
    "# create alphabet\n",
    "import string\n",
    "alphabet = list(string.ascii_lowercase)"
   ]
  },
  {
   "cell_type": "code",
   "execution_count": 128,
   "id": "attached-sodium",
   "metadata": {},
   "outputs": [],
   "source": [
    "# create potential letter combinations\n",
    "combinations = []\n",
    "for place in range(9):\n",
    "    for letter in range(len(alphabet)):\n",
    "        letter_list = list(letters)[:place] + [alphabet[letter]] + list(letters)[place:]\n",
    "        combinations.append(letter_list)\n",
    "        combinations.append(letter_list[::-1])"
   ]
  },
  {
   "cell_type": "code",
   "execution_count": 129,
   "id": "floating-architect",
   "metadata": {},
   "outputs": [
    {
     "data": {
      "text/plain": [
       "468"
      ]
     },
     "execution_count": 129,
     "metadata": {},
     "output_type": "execute_result"
    }
   ],
   "source": [
    "len(combinations)"
   ]
  },
  {
   "cell_type": "code",
   "execution_count": 130,
   "id": "likely-basket",
   "metadata": {},
   "outputs": [],
   "source": [
    "# create all possible sequences of letters\n",
    "options = []\n",
    "for start_position in range(9):\n",
    "    for combination in combinations:\n",
    "        sequence = combination[start_position:] + combination[:start_position]\n",
    "        options.append(sequence)"
   ]
  },
  {
   "cell_type": "code",
   "execution_count": 131,
   "id": "bulgarian-interaction",
   "metadata": {},
   "outputs": [
    {
     "data": {
      "text/plain": [
       "4212"
      ]
     },
     "execution_count": 131,
     "metadata": {},
     "output_type": "execute_result"
    }
   ],
   "source": [
    "len(options)"
   ]
  },
  {
   "cell_type": "code",
   "execution_count": 141,
   "id": "liable-delaware",
   "metadata": {},
   "outputs": [],
   "source": [
    "# cycle through combinations to see which ones are real words\n",
    "solutions = []\n",
    "for option in options:\n",
    "    if ''.join(option) in nine_list:\n",
    "        solutions.append(option)\n",
    "\n",
    "# combine solutions lists into words\n",
    "solutions = [''.join(solution) for solution in solutions]"
   ]
  },
  {
   "cell_type": "code",
   "execution_count": 142,
   "id": "objective-passport",
   "metadata": {},
   "outputs": [
    {
     "data": {
      "text/plain": [
       "['whodunnit']"
      ]
     },
     "execution_count": 142,
     "metadata": {},
     "output_type": "execute_result"
    }
   ],
   "source": [
    "solutions"
   ]
  },
  {
   "cell_type": "code",
   "execution_count": null,
   "id": "bibliographic-style",
   "metadata": {},
   "outputs": [],
   "source": []
  }
 ],
 "metadata": {
  "kernelspec": {
   "display_name": "Python 3",
   "language": "python",
   "name": "python3"
  },
  "language_info": {
   "codemirror_mode": {
    "name": "ipython",
    "version": 3
   },
   "file_extension": ".py",
   "mimetype": "text/x-python",
   "name": "python",
   "nbconvert_exporter": "python",
   "pygments_lexer": "ipython3",
   "version": "3.8.6"
  }
 },
 "nbformat": 4,
 "nbformat_minor": 5
}
